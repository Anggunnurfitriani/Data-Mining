{
 "cells": [
  {
   "cell_type": "markdown",
   "metadata": {},
   "source": [
    "# EAS Data Mining"
   ]
  },
  {
   "cell_type": "code",
   "execution_count": 36,
   "metadata": {},
   "outputs": [],
   "source": [
    "import numpy as np \n",
    "import pandas as pd \n",
    "import matplotlib.pyplot as plt\n",
    "import seaborn as sns\n",
    "from scipy.stats import mode\n",
    "from scipy import stats\n",
    "from sklearn import preprocessing\n",
    "from sklearn.feature_selection import SelectKBest, chi2\n",
    "from sklearn.model_selection import StratifiedKFold,GridSearchCV\n",
    "from sklearn.linear_model import LogisticRegression\n",
    "from sklearn.metrics import confusion_matrix\n",
    "from sklearn.metrics import roc_auc_score\n",
    "from sklearn.metrics import roc_curve\n",
    "from sklearn.naive_bayes import GaussianNB\n",
    "from sklearn.ensemble import RandomForestClassifier"
   ]
  },
  {
   "cell_type": "code",
   "execution_count": 37,
   "metadata": {},
   "outputs": [
    {
     "data": {
      "text/html": [
       "<div>\n",
       "<style scoped>\n",
       "    .dataframe tbody tr th:only-of-type {\n",
       "        vertical-align: middle;\n",
       "    }\n",
       "\n",
       "    .dataframe tbody tr th {\n",
       "        vertical-align: top;\n",
       "    }\n",
       "\n",
       "    .dataframe thead th {\n",
       "        text-align: right;\n",
       "    }\n",
       "</style>\n",
       "<table border=\"1\" class=\"dataframe\">\n",
       "  <thead>\n",
       "    <tr style=\"text-align: right;\">\n",
       "      <th></th>\n",
       "      <th>BAD</th>\n",
       "      <th>LOAN</th>\n",
       "      <th>MORTDUE</th>\n",
       "      <th>VALUE</th>\n",
       "      <th>REASON</th>\n",
       "      <th>JOB</th>\n",
       "      <th>YOJ</th>\n",
       "      <th>DEROG</th>\n",
       "      <th>DELINQ</th>\n",
       "      <th>CLAGE</th>\n",
       "      <th>NINQ</th>\n",
       "      <th>CLNO</th>\n",
       "      <th>DEBTINC</th>\n",
       "    </tr>\n",
       "  </thead>\n",
       "  <tbody>\n",
       "    <tr>\n",
       "      <th>0</th>\n",
       "      <td>1</td>\n",
       "      <td>1100</td>\n",
       "      <td>25860.0</td>\n",
       "      <td>39025.0</td>\n",
       "      <td>HomeImp</td>\n",
       "      <td>Other</td>\n",
       "      <td>10.5</td>\n",
       "      <td>0.0</td>\n",
       "      <td>0.0</td>\n",
       "      <td>94.366667</td>\n",
       "      <td>1.0</td>\n",
       "      <td>9.0</td>\n",
       "      <td>NaN</td>\n",
       "    </tr>\n",
       "    <tr>\n",
       "      <th>1</th>\n",
       "      <td>1</td>\n",
       "      <td>1300</td>\n",
       "      <td>70053.0</td>\n",
       "      <td>68400.0</td>\n",
       "      <td>HomeImp</td>\n",
       "      <td>Other</td>\n",
       "      <td>7.0</td>\n",
       "      <td>0.0</td>\n",
       "      <td>2.0</td>\n",
       "      <td>121.833333</td>\n",
       "      <td>0.0</td>\n",
       "      <td>14.0</td>\n",
       "      <td>NaN</td>\n",
       "    </tr>\n",
       "    <tr>\n",
       "      <th>2</th>\n",
       "      <td>1</td>\n",
       "      <td>1500</td>\n",
       "      <td>13500.0</td>\n",
       "      <td>16700.0</td>\n",
       "      <td>HomeImp</td>\n",
       "      <td>Other</td>\n",
       "      <td>4.0</td>\n",
       "      <td>0.0</td>\n",
       "      <td>0.0</td>\n",
       "      <td>149.466667</td>\n",
       "      <td>1.0</td>\n",
       "      <td>10.0</td>\n",
       "      <td>NaN</td>\n",
       "    </tr>\n",
       "    <tr>\n",
       "      <th>3</th>\n",
       "      <td>1</td>\n",
       "      <td>1500</td>\n",
       "      <td>NaN</td>\n",
       "      <td>NaN</td>\n",
       "      <td>NaN</td>\n",
       "      <td>NaN</td>\n",
       "      <td>NaN</td>\n",
       "      <td>NaN</td>\n",
       "      <td>NaN</td>\n",
       "      <td>NaN</td>\n",
       "      <td>NaN</td>\n",
       "      <td>NaN</td>\n",
       "      <td>NaN</td>\n",
       "    </tr>\n",
       "    <tr>\n",
       "      <th>4</th>\n",
       "      <td>0</td>\n",
       "      <td>1700</td>\n",
       "      <td>97800.0</td>\n",
       "      <td>112000.0</td>\n",
       "      <td>HomeImp</td>\n",
       "      <td>Office</td>\n",
       "      <td>3.0</td>\n",
       "      <td>0.0</td>\n",
       "      <td>0.0</td>\n",
       "      <td>93.333333</td>\n",
       "      <td>0.0</td>\n",
       "      <td>14.0</td>\n",
       "      <td>NaN</td>\n",
       "    </tr>\n",
       "  </tbody>\n",
       "</table>\n",
       "</div>"
      ],
      "text/plain": [
       "   BAD  LOAN  MORTDUE     VALUE   REASON     JOB   YOJ  DEROG  DELINQ  \\\n",
       "0    1  1100  25860.0   39025.0  HomeImp   Other  10.5    0.0     0.0   \n",
       "1    1  1300  70053.0   68400.0  HomeImp   Other   7.0    0.0     2.0   \n",
       "2    1  1500  13500.0   16700.0  HomeImp   Other   4.0    0.0     0.0   \n",
       "3    1  1500      NaN       NaN      NaN     NaN   NaN    NaN     NaN   \n",
       "4    0  1700  97800.0  112000.0  HomeImp  Office   3.0    0.0     0.0   \n",
       "\n",
       "        CLAGE  NINQ  CLNO  DEBTINC  \n",
       "0   94.366667   1.0   9.0      NaN  \n",
       "1  121.833333   0.0  14.0      NaN  \n",
       "2  149.466667   1.0  10.0      NaN  \n",
       "3         NaN   NaN   NaN      NaN  \n",
       "4   93.333333   0.0  14.0      NaN  "
      ]
     },
     "execution_count": 37,
     "metadata": {},
     "output_type": "execute_result"
    }
   ],
   "source": [
    "df = pd.read_csv(\"hmeq.csv\")\n",
    "df.head()"
   ]
  },
  {
   "cell_type": "code",
   "execution_count": 38,
   "metadata": {},
   "outputs": [
    {
     "data": {
      "text/plain": [
       "DEBTINC    4693\n",
       "DEROG      5252\n",
       "DELINQ     5380\n",
       "MORTDUE    5442\n",
       "YOJ        5445\n",
       "NINQ       5450\n",
       "CLAGE      5652\n",
       "JOB        5681\n",
       "REASON     5708\n",
       "CLNO       5738\n",
       "VALUE      5848\n",
       "BAD        5960\n",
       "LOAN       5960\n",
       "dtype: int64"
      ]
     },
     "execution_count": 38,
     "metadata": {},
     "output_type": "execute_result"
    }
   ],
   "source": [
    "#cek total data\n",
    "df.count().sort_values()"
   ]
  },
  {
   "cell_type": "code",
   "execution_count": 39,
   "metadata": {},
   "outputs": [
    {
     "data": {
      "text/html": [
       "<div>\n",
       "<style scoped>\n",
       "    .dataframe tbody tr th:only-of-type {\n",
       "        vertical-align: middle;\n",
       "    }\n",
       "\n",
       "    .dataframe tbody tr th {\n",
       "        vertical-align: top;\n",
       "    }\n",
       "\n",
       "    .dataframe thead th {\n",
       "        text-align: right;\n",
       "    }\n",
       "</style>\n",
       "<table border=\"1\" class=\"dataframe\">\n",
       "  <thead>\n",
       "    <tr style=\"text-align: right;\">\n",
       "      <th></th>\n",
       "      <th>Variabel</th>\n",
       "      <th>Jumlah Missing</th>\n",
       "    </tr>\n",
       "  </thead>\n",
       "  <tbody>\n",
       "    <tr>\n",
       "      <th>0</th>\n",
       "      <td>BAD</td>\n",
       "      <td>0</td>\n",
       "    </tr>\n",
       "    <tr>\n",
       "      <th>1</th>\n",
       "      <td>LOAN</td>\n",
       "      <td>0</td>\n",
       "    </tr>\n",
       "    <tr>\n",
       "      <th>2</th>\n",
       "      <td>MORTDUE</td>\n",
       "      <td>518</td>\n",
       "    </tr>\n",
       "    <tr>\n",
       "      <th>3</th>\n",
       "      <td>VALUE</td>\n",
       "      <td>112</td>\n",
       "    </tr>\n",
       "    <tr>\n",
       "      <th>4</th>\n",
       "      <td>REASON</td>\n",
       "      <td>252</td>\n",
       "    </tr>\n",
       "    <tr>\n",
       "      <th>5</th>\n",
       "      <td>JOB</td>\n",
       "      <td>279</td>\n",
       "    </tr>\n",
       "    <tr>\n",
       "      <th>6</th>\n",
       "      <td>YOJ</td>\n",
       "      <td>515</td>\n",
       "    </tr>\n",
       "    <tr>\n",
       "      <th>7</th>\n",
       "      <td>DEROG</td>\n",
       "      <td>708</td>\n",
       "    </tr>\n",
       "    <tr>\n",
       "      <th>8</th>\n",
       "      <td>DELINQ</td>\n",
       "      <td>580</td>\n",
       "    </tr>\n",
       "    <tr>\n",
       "      <th>9</th>\n",
       "      <td>CLAGE</td>\n",
       "      <td>308</td>\n",
       "    </tr>\n",
       "    <tr>\n",
       "      <th>10</th>\n",
       "      <td>NINQ</td>\n",
       "      <td>510</td>\n",
       "    </tr>\n",
       "    <tr>\n",
       "      <th>11</th>\n",
       "      <td>CLNO</td>\n",
       "      <td>222</td>\n",
       "    </tr>\n",
       "    <tr>\n",
       "      <th>12</th>\n",
       "      <td>DEBTINC</td>\n",
       "      <td>1267</td>\n",
       "    </tr>\n",
       "  </tbody>\n",
       "</table>\n",
       "</div>"
      ],
      "text/plain": [
       "   Variabel  Jumlah Missing\n",
       "0       BAD               0\n",
       "1      LOAN               0\n",
       "2   MORTDUE             518\n",
       "3     VALUE             112\n",
       "4    REASON             252\n",
       "5       JOB             279\n",
       "6       YOJ             515\n",
       "7     DEROG             708\n",
       "8    DELINQ             580\n",
       "9     CLAGE             308\n",
       "10     NINQ             510\n",
       "11     CLNO             222\n",
       "12  DEBTINC            1267"
      ]
     },
     "execution_count": 39,
     "metadata": {},
     "output_type": "execute_result"
    }
   ],
   "source": [
    "#cek missing\n",
    "a=np.sum(df.isnull())\n",
    "a=pd.DataFrame(a,columns=['a'])\n",
    "b=pd.DataFrame([])\n",
    "a=a.values\n",
    "b['Variabel']=list(df)\n",
    "b['Jumlah Missing']=a\n",
    "b"
   ]
  },
  {
   "cell_type": "code",
   "execution_count": 40,
   "metadata": {},
   "outputs": [
    {
     "data": {
      "image/png": "[encoded data removed]",
      "text/plain": [
       "<Figure size 432x288 with 1 Axes>"
      ]
     },
     "metadata": {},
     "output_type": "display_data"
    }
   ],
   "source": [
    "sns.set(style=\"whitegrid\")\n",
    "bb=b.sort_values('Jumlah Missing')\n",
    "ax = sns.barplot(x=\"Jumlah Missing\", y=\"Variabel\", data=bb)\n",
    "plt.show()"
   ]
  },
  {
   "cell_type": "code",
   "execution_count": 41,
   "metadata": {},
   "outputs": [],
   "source": [
    "#imputasi missing value pada data kategorik\n",
    "df['REASON'].fillna((df.REASON.mode())[0], inplace=True)\n",
    "df['JOB'].fillna((df.JOB.mode())[0], inplace=True)"
   ]
  },
  {
   "cell_type": "code",
   "execution_count": 42,
   "metadata": {},
   "outputs": [
    {
     "name": "stdout",
     "output_type": "stream",
     "text": [
      "(5960, 13)\n"
     ]
    },
    {
     "data": {
      "text/html": [
       "<div>\n",
       "<style scoped>\n",
       "    .dataframe tbody tr th:only-of-type {\n",
       "        vertical-align: middle;\n",
       "    }\n",
       "\n",
       "    .dataframe tbody tr th {\n",
       "        vertical-align: top;\n",
       "    }\n",
       "\n",
       "    .dataframe thead th {\n",
       "        text-align: right;\n",
       "    }\n",
       "</style>\n",
       "<table border=\"1\" class=\"dataframe\">\n",
       "  <thead>\n",
       "    <tr style=\"text-align: right;\">\n",
       "      <th></th>\n",
       "      <th>BAD</th>\n",
       "      <th>LOAN</th>\n",
       "      <th>MORTDUE</th>\n",
       "      <th>VALUE</th>\n",
       "      <th>REASON</th>\n",
       "      <th>JOB</th>\n",
       "      <th>YOJ</th>\n",
       "      <th>DEROG</th>\n",
       "      <th>DELINQ</th>\n",
       "      <th>CLAGE</th>\n",
       "      <th>NINQ</th>\n",
       "      <th>CLNO</th>\n",
       "      <th>DEBTINC</th>\n",
       "    </tr>\n",
       "  </thead>\n",
       "  <tbody>\n",
       "    <tr>\n",
       "      <th>0</th>\n",
       "      <td>1</td>\n",
       "      <td>1100</td>\n",
       "      <td>25860.000000</td>\n",
       "      <td>39025.000000</td>\n",
       "      <td>HomeImp</td>\n",
       "      <td>Other</td>\n",
       "      <td>10.500000</td>\n",
       "      <td>0.000000</td>\n",
       "      <td>0.000000</td>\n",
       "      <td>94.366667</td>\n",
       "      <td>1.000000</td>\n",
       "      <td>9.000000</td>\n",
       "      <td>39.387645</td>\n",
       "    </tr>\n",
       "    <tr>\n",
       "      <th>1</th>\n",
       "      <td>1</td>\n",
       "      <td>1300</td>\n",
       "      <td>70053.000000</td>\n",
       "      <td>68400.000000</td>\n",
       "      <td>HomeImp</td>\n",
       "      <td>Other</td>\n",
       "      <td>7.000000</td>\n",
       "      <td>0.000000</td>\n",
       "      <td>2.000000</td>\n",
       "      <td>121.833333</td>\n",
       "      <td>0.000000</td>\n",
       "      <td>14.000000</td>\n",
       "      <td>39.387645</td>\n",
       "    </tr>\n",
       "    <tr>\n",
       "      <th>2</th>\n",
       "      <td>1</td>\n",
       "      <td>1500</td>\n",
       "      <td>13500.000000</td>\n",
       "      <td>16700.000000</td>\n",
       "      <td>HomeImp</td>\n",
       "      <td>Other</td>\n",
       "      <td>4.000000</td>\n",
       "      <td>0.000000</td>\n",
       "      <td>0.000000</td>\n",
       "      <td>149.466667</td>\n",
       "      <td>1.000000</td>\n",
       "      <td>10.000000</td>\n",
       "      <td>39.387645</td>\n",
       "    </tr>\n",
       "    <tr>\n",
       "      <th>3</th>\n",
       "      <td>1</td>\n",
       "      <td>1500</td>\n",
       "      <td>69460.452973</td>\n",
       "      <td>98172.846227</td>\n",
       "      <td>DebtCon</td>\n",
       "      <td>Other</td>\n",
       "      <td>8.027802</td>\n",
       "      <td>0.707804</td>\n",
       "      <td>1.229185</td>\n",
       "      <td>150.190183</td>\n",
       "      <td>1.782765</td>\n",
       "      <td>21.211268</td>\n",
       "      <td>39.387645</td>\n",
       "    </tr>\n",
       "    <tr>\n",
       "      <th>4</th>\n",
       "      <td>0</td>\n",
       "      <td>1700</td>\n",
       "      <td>97800.000000</td>\n",
       "      <td>112000.000000</td>\n",
       "      <td>HomeImp</td>\n",
       "      <td>Office</td>\n",
       "      <td>3.000000</td>\n",
       "      <td>0.000000</td>\n",
       "      <td>0.000000</td>\n",
       "      <td>93.333333</td>\n",
       "      <td>0.000000</td>\n",
       "      <td>14.000000</td>\n",
       "      <td>33.253129</td>\n",
       "    </tr>\n",
       "  </tbody>\n",
       "</table>\n",
       "</div>"
      ],
      "text/plain": [
       "   BAD  LOAN       MORTDUE          VALUE   REASON     JOB        YOJ  \\\n",
       "0    1  1100  25860.000000   39025.000000  HomeImp   Other  10.500000   \n",
       "1    1  1300  70053.000000   68400.000000  HomeImp   Other   7.000000   \n",
       "2    1  1500  13500.000000   16700.000000  HomeImp   Other   4.000000   \n",
       "3    1  1500  69460.452973   98172.846227  DebtCon   Other   8.027802   \n",
       "4    0  1700  97800.000000  112000.000000  HomeImp  Office   3.000000   \n",
       "\n",
       "      DEROG    DELINQ       CLAGE      NINQ       CLNO    DEBTINC  \n",
       "0  0.000000  0.000000   94.366667  1.000000   9.000000  39.387645  \n",
       "1  0.000000  2.000000  121.833333  0.000000  14.000000  39.387645  \n",
       "2  0.000000  0.000000  149.466667  1.000000  10.000000  39.387645  \n",
       "3  0.707804  1.229185  150.190183  1.782765  21.211268  39.387645  \n",
       "4  0.000000  0.000000   93.333333  0.000000  14.000000  33.253129  "
      ]
     },
     "execution_count": 42,
     "metadata": {},
     "output_type": "execute_result"
    }
   ],
   "source": [
    "#imputasi mean\n",
    "df['DEBTINC'] = df.groupby('BAD')['DEBTINC'].transform(lambda x: x.fillna(x.mean()))\n",
    "df['DEROG'] = df.groupby('BAD')['DEROG'].transform(lambda x: x.fillna(x.mean()))\n",
    "df['DELINQ'] = df.groupby('BAD')['DELINQ'].transform(lambda x: x.fillna(x.mean()))\n",
    "df['MORTDUE'] = df.groupby('BAD')['MORTDUE'].transform(lambda x: x.fillna(x.mean()))\n",
    "df['YOJ'] = df.groupby('BAD')['YOJ'].transform(lambda x: x.fillna(x.mean()))\n",
    "df['NINQ'] = df.groupby('BAD')['NINQ'].transform(lambda x: x.fillna(x.mean()))\n",
    "df['CLAGE'] = df.groupby('BAD')['CLAGE'].transform(lambda x: x.fillna(x.mean()))\n",
    "df['CLNO'] = df.groupby('BAD')['CLNO'].transform(lambda x: x.fillna(x.mean()))\n",
    "df['VALUE'] = df.groupby('BAD')['VALUE'].transform(lambda x: x.fillna(x.mean()))\n",
    "\n",
    "print(df.shape)\n",
    "df.head()"
   ]
  },
  {
   "cell_type": "code",
   "execution_count": 43,
   "metadata": {},
   "outputs": [
    {
     "data": {
      "text/plain": [
       "BAD        0\n",
       "LOAN       0\n",
       "MORTDUE    0\n",
       "VALUE      0\n",
       "REASON     0\n",
       "JOB        0\n",
       "YOJ        0\n",
       "DEROG      0\n",
       "DELINQ     0\n",
       "CLAGE      0\n",
       "NINQ       0\n",
       "CLNO       0\n",
       "DEBTINC    0\n",
       "dtype: int64"
      ]
     },
     "execution_count": 43,
     "metadata": {},
     "output_type": "execute_result"
    }
   ],
   "source": [
    "np.sum(df.isnull())"
   ]
  },
  {
   "cell_type": "markdown",
   "metadata": {},
   "source": [
    "# Outlier"
   ]
  },
  {
   "cell_type": "code",
   "execution_count": 44,
   "metadata": {},
   "outputs": [
    {
     "name": "stdout",
     "output_type": "stream",
     "text": [
      "[[2.00315143 1.5622993  1.12747705 ... 0.11021105 1.23608933 0.62400073]\n",
      " [2.00315143 1.54445258 0.08721664 ... 0.71452213 0.7334479  0.62400073]\n",
      " [2.00315143 1.52660585 1.41841948 ... 0.11021105 1.13556104 0.62400073]\n",
      " ...\n",
      " [0.49921338 6.29918148 0.46402945 ... 0.71452213 0.63291961 0.13719023]\n",
      " [0.49921338 6.35272165 0.55053539 ... 0.71452213 0.53239133 0.0172893 ]\n",
      " [0.49921338 6.36164501 0.58723274 ... 0.71452213 0.53239133 0.01201762]]\n",
      "(5243, 13)\n"
     ]
    }
   ],
   "source": [
    "from scipy import stats\n",
    "z = np.abs(stats.zscore(df._get_numeric_data()))\n",
    "print(z)\n",
    "df= df[(z < 3).all(axis=1)]\n",
    "print(df.shape)"
   ]
  },
  {
   "cell_type": "code",
   "execution_count": 45,
   "metadata": {},
   "outputs": [
    {
     "data": {
      "image/png": "[encoded data removed]",
      "text/plain": [
       "<Figure size 432x288 with 1 Axes>"
      ]
     },
     "metadata": {},
     "output_type": "display_data"
    }
   ],
   "source": [
    "sns.set(style=\"whitegrid\")\n",
    "c=pd.DataFrame([])\n",
    "c['Keterangan']=[\"Tidak Outlier\",\"Outlier\"]\n",
    "c['Jumlah Observasi']=[5243,717]\n",
    "bx = sns.barplot(x=\"Keterangan\", y=\"Jumlah Observasi\",data=c)\n",
    "plt.show()"
   ]
  },
  {
   "cell_type": "markdown",
   "metadata": {},
   "source": [
    "# Transformasi Data Variabel Kategorik"
   ]
  },
  {
   "cell_type": "code",
   "execution_count": 46,
   "metadata": {},
   "outputs": [
    {
     "data": {
      "text/html": [
       "<div>\n",
       "<style scoped>\n",
       "    .dataframe tbody tr th:only-of-type {\n",
       "        vertical-align: middle;\n",
       "    }\n",
       "\n",
       "    .dataframe tbody tr th {\n",
       "        vertical-align: top;\n",
       "    }\n",
       "\n",
       "    .dataframe thead th {\n",
       "        text-align: right;\n",
       "    }\n",
       "</style>\n",
       "<table border=\"1\" class=\"dataframe\">\n",
       "  <thead>\n",
       "    <tr style=\"text-align: right;\">\n",
       "      <th></th>\n",
       "      <th>BAD</th>\n",
       "      <th>LOAN</th>\n",
       "      <th>MORTDUE</th>\n",
       "      <th>VALUE</th>\n",
       "      <th>REASON</th>\n",
       "      <th>JOB</th>\n",
       "      <th>YOJ</th>\n",
       "      <th>DEROG</th>\n",
       "      <th>DELINQ</th>\n",
       "      <th>CLAGE</th>\n",
       "      <th>NINQ</th>\n",
       "      <th>CLNO</th>\n",
       "      <th>DEBTINC</th>\n",
       "    </tr>\n",
       "  </thead>\n",
       "  <tbody>\n",
       "    <tr>\n",
       "      <th>0</th>\n",
       "      <td>1</td>\n",
       "      <td>1100</td>\n",
       "      <td>25860.000000</td>\n",
       "      <td>39025.000000</td>\n",
       "      <td>1</td>\n",
       "      <td>2</td>\n",
       "      <td>10.500000</td>\n",
       "      <td>0.000000</td>\n",
       "      <td>0.000000</td>\n",
       "      <td>94.366667</td>\n",
       "      <td>1.000000</td>\n",
       "      <td>9.000000</td>\n",
       "      <td>39.387645</td>\n",
       "    </tr>\n",
       "    <tr>\n",
       "      <th>1</th>\n",
       "      <td>1</td>\n",
       "      <td>1300</td>\n",
       "      <td>70053.000000</td>\n",
       "      <td>68400.000000</td>\n",
       "      <td>1</td>\n",
       "      <td>2</td>\n",
       "      <td>7.000000</td>\n",
       "      <td>0.000000</td>\n",
       "      <td>2.000000</td>\n",
       "      <td>121.833333</td>\n",
       "      <td>0.000000</td>\n",
       "      <td>14.000000</td>\n",
       "      <td>39.387645</td>\n",
       "    </tr>\n",
       "    <tr>\n",
       "      <th>2</th>\n",
       "      <td>1</td>\n",
       "      <td>1500</td>\n",
       "      <td>13500.000000</td>\n",
       "      <td>16700.000000</td>\n",
       "      <td>1</td>\n",
       "      <td>2</td>\n",
       "      <td>4.000000</td>\n",
       "      <td>0.000000</td>\n",
       "      <td>0.000000</td>\n",
       "      <td>149.466667</td>\n",
       "      <td>1.000000</td>\n",
       "      <td>10.000000</td>\n",
       "      <td>39.387645</td>\n",
       "    </tr>\n",
       "    <tr>\n",
       "      <th>3</th>\n",
       "      <td>1</td>\n",
       "      <td>1500</td>\n",
       "      <td>69460.452973</td>\n",
       "      <td>98172.846227</td>\n",
       "      <td>0</td>\n",
       "      <td>2</td>\n",
       "      <td>8.027802</td>\n",
       "      <td>0.707804</td>\n",
       "      <td>1.229185</td>\n",
       "      <td>150.190183</td>\n",
       "      <td>1.782765</td>\n",
       "      <td>21.211268</td>\n",
       "      <td>39.387645</td>\n",
       "    </tr>\n",
       "    <tr>\n",
       "      <th>4</th>\n",
       "      <td>0</td>\n",
       "      <td>1700</td>\n",
       "      <td>97800.000000</td>\n",
       "      <td>112000.000000</td>\n",
       "      <td>1</td>\n",
       "      <td>1</td>\n",
       "      <td>3.000000</td>\n",
       "      <td>0.000000</td>\n",
       "      <td>0.000000</td>\n",
       "      <td>93.333333</td>\n",
       "      <td>0.000000</td>\n",
       "      <td>14.000000</td>\n",
       "      <td>33.253129</td>\n",
       "    </tr>\n",
       "  </tbody>\n",
       "</table>\n",
       "</div>"
      ],
      "text/plain": [
       "   BAD  LOAN       MORTDUE          VALUE  REASON  JOB        YOJ     DEROG  \\\n",
       "0    1  1100  25860.000000   39025.000000       1    2  10.500000  0.000000   \n",
       "1    1  1300  70053.000000   68400.000000       1    2   7.000000  0.000000   \n",
       "2    1  1500  13500.000000   16700.000000       1    2   4.000000  0.000000   \n",
       "3    1  1500  69460.452973   98172.846227       0    2   8.027802  0.707804   \n",
       "4    0  1700  97800.000000  112000.000000       1    1   3.000000  0.000000   \n",
       "\n",
       "     DELINQ       CLAGE      NINQ       CLNO    DEBTINC  \n",
       "0  0.000000   94.366667  1.000000   9.000000  39.387645  \n",
       "1  2.000000  121.833333  0.000000  14.000000  39.387645  \n",
       "2  0.000000  149.466667  1.000000  10.000000  39.387645  \n",
       "3  1.229185  150.190183  1.782765  21.211268  39.387645  \n",
       "4  0.000000   93.333333  0.000000  14.000000  33.253129  "
      ]
     },
     "execution_count": 46,
     "metadata": {},
     "output_type": "execute_result"
    }
   ],
   "source": [
    "pre=preprocessing.LabelEncoder()\n",
    "aa=pre.fit(df.iloc[0:,4])\n",
    "a=pre.transform(df.iloc[0:,4])\n",
    "bb=pre.fit(df.iloc[0:,5])\n",
    "b=pre.transform(df.iloc[0:,5])\n",
    "\n",
    "df['REASON']=a\n",
    "df['JOB']=b\n",
    "df.head()"
   ]
  },
  {
   "cell_type": "code",
   "execution_count": 47,
   "metadata": {},
   "outputs": [
    {
     "name": "stdout",
     "output_type": "stream",
     "text": [
      "[0 1]\n",
      "[0 1 2 3 4 5]\n"
     ]
    }
   ],
   "source": [
    "categorical_columns = ['REASON', 'JOB']\n",
    "for col in categorical_columns:\n",
    "    print(np.unique(df[col]))"
   ]
  },
  {
   "cell_type": "markdown",
   "metadata": {},
   "source": [
    "# Transformasi Variabel Count"
   ]
  },
  {
   "cell_type": "code",
   "execution_count": 48,
   "metadata": {},
   "outputs": [
    {
     "name": "stdout",
     "output_type": "stream",
     "text": [
      "(5243, 13)\n"
     ]
    },
    {
     "name": "stderr",
     "output_type": "stream",
     "text": [
      "C:\\Users\\USER\\Anaconda3\\lib\\site-packages\\sklearn\\preprocessing\\data.py:323: DataConversionWarning: Data with input dtype int64, float64 were all converted to float64 by MinMaxScaler.\n",
      "  return self.partial_fit(X, y)\n"
     ]
    },
    {
     "data": {
      "text/html": [
       "<div>\n",
       "<style scoped>\n",
       "    .dataframe tbody tr th:only-of-type {\n",
       "        vertical-align: middle;\n",
       "    }\n",
       "\n",
       "    .dataframe tbody tr th {\n",
       "        vertical-align: top;\n",
       "    }\n",
       "\n",
       "    .dataframe thead th {\n",
       "        text-align: right;\n",
       "    }\n",
       "</style>\n",
       "<table border=\"1\" class=\"dataframe\">\n",
       "  <thead>\n",
       "    <tr style=\"text-align: right;\">\n",
       "      <th></th>\n",
       "      <th>BAD</th>\n",
       "      <th>LOAN</th>\n",
       "      <th>MORTDUE</th>\n",
       "      <th>VALUE</th>\n",
       "      <th>YOJ</th>\n",
       "      <th>DEROG</th>\n",
       "      <th>DELINQ</th>\n",
       "      <th>CLAGE</th>\n",
       "      <th>NINQ</th>\n",
       "      <th>CLNO</th>\n",
       "      <th>DEBTINC</th>\n",
       "      <th>REASON</th>\n",
       "      <th>JOB</th>\n",
       "    </tr>\n",
       "  </thead>\n",
       "  <tbody>\n",
       "    <tr>\n",
       "      <th>0</th>\n",
       "      <td>1.0</td>\n",
       "      <td>0.000000</td>\n",
       "      <td>0.119783</td>\n",
       "      <td>0.117663</td>\n",
       "      <td>0.350000</td>\n",
       "      <td>0.000000</td>\n",
       "      <td>0.000000</td>\n",
       "      <td>0.219597</td>\n",
       "      <td>0.166667</td>\n",
       "      <td>0.176471</td>\n",
       "      <td>0.598480</td>\n",
       "      <td>1</td>\n",
       "      <td>2</td>\n",
       "    </tr>\n",
       "    <tr>\n",
       "      <th>1</th>\n",
       "      <td>1.0</td>\n",
       "      <td>0.003914</td>\n",
       "      <td>0.342229</td>\n",
       "      <td>0.229069</td>\n",
       "      <td>0.233333</td>\n",
       "      <td>0.000000</td>\n",
       "      <td>0.666667</td>\n",
       "      <td>0.283859</td>\n",
       "      <td>0.000000</td>\n",
       "      <td>0.274510</td>\n",
       "      <td>0.598480</td>\n",
       "      <td>1</td>\n",
       "      <td>2</td>\n",
       "    </tr>\n",
       "    <tr>\n",
       "      <th>2</th>\n",
       "      <td>1.0</td>\n",
       "      <td>0.007828</td>\n",
       "      <td>0.057568</td>\n",
       "      <td>0.032995</td>\n",
       "      <td>0.133333</td>\n",
       "      <td>0.000000</td>\n",
       "      <td>0.000000</td>\n",
       "      <td>0.348511</td>\n",
       "      <td>0.166667</td>\n",
       "      <td>0.196078</td>\n",
       "      <td>0.598480</td>\n",
       "      <td>1</td>\n",
       "      <td>2</td>\n",
       "    </tr>\n",
       "    <tr>\n",
       "      <th>3</th>\n",
       "      <td>1.0</td>\n",
       "      <td>0.007828</td>\n",
       "      <td>0.339247</td>\n",
       "      <td>0.341984</td>\n",
       "      <td>0.267593</td>\n",
       "      <td>0.353902</td>\n",
       "      <td>0.409728</td>\n",
       "      <td>0.350204</td>\n",
       "      <td>0.297127</td>\n",
       "      <td>0.415907</td>\n",
       "      <td>0.598480</td>\n",
       "      <td>0</td>\n",
       "      <td>2</td>\n",
       "    </tr>\n",
       "    <tr>\n",
       "      <th>4</th>\n",
       "      <td>0.0</td>\n",
       "      <td>0.011742</td>\n",
       "      <td>0.481894</td>\n",
       "      <td>0.394423</td>\n",
       "      <td>0.100000</td>\n",
       "      <td>0.000000</td>\n",
       "      <td>0.000000</td>\n",
       "      <td>0.217180</td>\n",
       "      <td>0.000000</td>\n",
       "      <td>0.274510</td>\n",
       "      <td>0.466105</td>\n",
       "      <td>1</td>\n",
       "      <td>1</td>\n",
       "    </tr>\n",
       "  </tbody>\n",
       "</table>\n",
       "</div>"
      ],
      "text/plain": [
       "   BAD      LOAN   MORTDUE     VALUE       YOJ     DEROG    DELINQ     CLAGE  \\\n",
       "0  1.0  0.000000  0.119783  0.117663  0.350000  0.000000  0.000000  0.219597   \n",
       "1  1.0  0.003914  0.342229  0.229069  0.233333  0.000000  0.666667  0.283859   \n",
       "2  1.0  0.007828  0.057568  0.032995  0.133333  0.000000  0.000000  0.348511   \n",
       "3  1.0  0.007828  0.339247  0.341984  0.267593  0.353902  0.409728  0.350204   \n",
       "4  0.0  0.011742  0.481894  0.394423  0.100000  0.000000  0.000000  0.217180   \n",
       "\n",
       "       NINQ      CLNO   DEBTINC  REASON  JOB  \n",
       "0  0.166667  0.176471  0.598480       1    2  \n",
       "1  0.000000  0.274510  0.598480       1    2  \n",
       "2  0.166667  0.196078  0.598480       1    2  \n",
       "3  0.297127  0.415907  0.598480       0    2  \n",
       "4  0.000000  0.274510  0.466105       1    1  "
      ]
     },
     "execution_count": 48,
     "metadata": {},
     "output_type": "execute_result"
    }
   ],
   "source": [
    "aa = df.drop(columns=['REASON','JOB'])\n",
    "bb=df[['REASON','JOB']]\n",
    "scaler = preprocessing.MinMaxScaler()\n",
    "scaler.fit(aa)\n",
    "aa = pd.DataFrame(scaler.transform(aa), index=aa.index, columns=aa.columns)\n",
    "df=pd.concat([aa,bb],axis=1)\n",
    "df.head()\n",
    "print(df.shape)\n",
    "df.head()"
   ]
  },
  {
   "cell_type": "markdown",
   "metadata": {},
   "source": [
    "# Feature Selection"
   ]
  },
  {
   "cell_type": "code",
   "execution_count": 49,
   "metadata": {},
   "outputs": [],
   "source": [
    "X = df.drop(columns=['BAD'])\n",
    "y = df[['BAD']]\n",
    "selector = SelectKBest(chi2, k='all').fit(X,y)\n",
    "X_new = selector.transform(X)\n",
    "scores = selector.scores_"
   ]
  },
  {
   "cell_type": "code",
   "execution_count": 50,
   "metadata": {},
   "outputs": [
    {
     "data": {
      "text/plain": [
       "array([  5.78577142,   2.9811862 ,   3.8520815 ,   4.35548894,\n",
       "       129.43947155, 192.96654998,  16.38507743,  29.80597652,\n",
       "         1.49792281,  18.67644256,   9.03687475,   0.62450932])"
      ]
     },
     "execution_count": 50,
     "metadata": {},
     "output_type": "execute_result"
    }
   ],
   "source": [
    "scores"
   ]
  },
  {
   "cell_type": "code",
   "execution_count": 51,
   "metadata": {},
   "outputs": [
    {
     "data": {
      "image/png": "[encoded data removed]",
      "text/plain": [
       "<Figure size 432x288 with 1 Axes>"
      ]
     },
     "metadata": {},
     "output_type": "display_data"
    }
   ],
   "source": [
    "fs=pd.DataFrame([])\n",
    "fs['Variabel']=list(X)\n",
    "fs['Skor']=scores.astype(int)\n",
    "sns.set(style=\"whitegrid\")\n",
    "fs=fs.sort_values('Skor')\n",
    "fsx = sns.barplot(x=\"Skor\", y=\"Variabel\", data=fs)\n",
    "plt.show()"
   ]
  },
  {
   "cell_type": "code",
   "execution_count": 52,
   "metadata": {},
   "outputs": [
    {
     "name": "stdout",
     "output_type": "stream",
     "text": [
      "Index(['DEROG', 'DELINQ', 'CLAGE', 'NINQ', 'DEBTINC'], dtype='object')\n"
     ]
    }
   ],
   "source": [
    "#feature selection (mengambil 5 variabel terpenting)\n",
    "X = df.drop(columns=['BAD'])\n",
    "y = df[['BAD']]\n",
    "selector = SelectKBest(chi2, k=5).fit(X,y)\n",
    "X_new = selector.transform(X)\n",
    "print(X.columns[selector.get_support(indices=True)])"
   ]
  },
  {
   "cell_type": "code",
   "execution_count": 53,
   "metadata": {},
   "outputs": [
    {
     "data": {
      "text/html": [
       "<div>\n",
       "<style scoped>\n",
       "    .dataframe tbody tr th:only-of-type {\n",
       "        vertical-align: middle;\n",
       "    }\n",
       "\n",
       "    .dataframe tbody tr th {\n",
       "        vertical-align: top;\n",
       "    }\n",
       "\n",
       "    .dataframe thead th {\n",
       "        text-align: right;\n",
       "    }\n",
       "</style>\n",
       "<table border=\"1\" class=\"dataframe\">\n",
       "  <thead>\n",
       "    <tr style=\"text-align: right;\">\n",
       "      <th></th>\n",
       "      <th>DEROG</th>\n",
       "      <th>DELINQ</th>\n",
       "      <th>CLAGE</th>\n",
       "      <th>NINQ</th>\n",
       "      <th>DEBTINC</th>\n",
       "      <th>BAD</th>\n",
       "    </tr>\n",
       "  </thead>\n",
       "  <tbody>\n",
       "    <tr>\n",
       "      <th>0</th>\n",
       "      <td>0.000000</td>\n",
       "      <td>0.000000</td>\n",
       "      <td>0.219597</td>\n",
       "      <td>0.166667</td>\n",
       "      <td>0.598480</td>\n",
       "      <td>1.0</td>\n",
       "    </tr>\n",
       "    <tr>\n",
       "      <th>1</th>\n",
       "      <td>0.000000</td>\n",
       "      <td>0.666667</td>\n",
       "      <td>0.283859</td>\n",
       "      <td>0.000000</td>\n",
       "      <td>0.598480</td>\n",
       "      <td>1.0</td>\n",
       "    </tr>\n",
       "    <tr>\n",
       "      <th>2</th>\n",
       "      <td>0.000000</td>\n",
       "      <td>0.000000</td>\n",
       "      <td>0.348511</td>\n",
       "      <td>0.166667</td>\n",
       "      <td>0.598480</td>\n",
       "      <td>1.0</td>\n",
       "    </tr>\n",
       "    <tr>\n",
       "      <th>3</th>\n",
       "      <td>0.353902</td>\n",
       "      <td>0.409728</td>\n",
       "      <td>0.350204</td>\n",
       "      <td>0.297127</td>\n",
       "      <td>0.598480</td>\n",
       "      <td>1.0</td>\n",
       "    </tr>\n",
       "    <tr>\n",
       "      <th>4</th>\n",
       "      <td>0.000000</td>\n",
       "      <td>0.000000</td>\n",
       "      <td>0.217180</td>\n",
       "      <td>0.000000</td>\n",
       "      <td>0.466105</td>\n",
       "      <td>0.0</td>\n",
       "    </tr>\n",
       "  </tbody>\n",
       "</table>\n",
       "</div>"
      ],
      "text/plain": [
       "      DEROG    DELINQ     CLAGE      NINQ   DEBTINC  BAD\n",
       "0  0.000000  0.000000  0.219597  0.166667  0.598480  1.0\n",
       "1  0.000000  0.666667  0.283859  0.000000  0.598480  1.0\n",
       "2  0.000000  0.000000  0.348511  0.166667  0.598480  1.0\n",
       "3  0.353902  0.409728  0.350204  0.297127  0.598480  1.0\n",
       "4  0.000000  0.000000  0.217180  0.000000  0.466105  0.0"
      ]
     },
     "execution_count": 53,
     "metadata": {},
     "output_type": "execute_result"
    }
   ],
   "source": [
    "#Pembuatan model baru\n",
    "df=df[['DEROG', 'DELINQ', 'CLAGE', 'NINQ', 'DEBTINC', 'BAD']]\n",
    "df.head()"
   ]
  },
  {
   "cell_type": "code",
   "execution_count": 54,
   "metadata": {},
   "outputs": [
    {
     "data": {
      "image/png": "[encoded data removed]",
      "text/plain": [
       "<Figure size 432x288 with 1 Axes>"
      ]
     },
     "metadata": {},
     "output_type": "display_data"
    }
   ],
   "source": [
    "sns.set(style=\"whitegrid\")\n",
    "yx = sns.countplot(x=\"BAD\", data=y)\n",
    "plt.show()"
   ]
  },
  {
   "cell_type": "code",
   "execution_count": null,
   "metadata": {},
   "outputs": [],
   "source": []
  },
  {
   "cell_type": "markdown",
   "metadata": {},
   "source": [
    "# Regresi Logistik"
   ]
  },
  {
   "cell_type": "code",
   "execution_count": 55,
   "metadata": {},
   "outputs": [],
   "source": [
    "y=y.values\n",
    "X=X.values"
   ]
  },
  {
   "cell_type": "code",
   "execution_count": 56,
   "metadata": {},
   "outputs": [],
   "source": [
    "n=5\n",
    "kf=StratifiedKFold(n_splits=n,random_state=None)"
   ]
  },
  {
   "cell_type": "code",
   "execution_count": 57,
   "metadata": {},
   "outputs": [],
   "source": [
    "clf = LogisticRegression(random_state=0, solver='lbfgs')"
   ]
  },
  {
   "cell_type": "code",
   "execution_count": 58,
   "metadata": {},
   "outputs": [],
   "source": [
    "cm=[]\n",
    "total=[]\n",
    "ac=[]\n",
    "se=[]\n",
    "sp=[]"
   ]
  },
  {
   "cell_type": "code",
   "execution_count": 59,
   "metadata": {},
   "outputs": [
    {
     "name": "stderr",
     "output_type": "stream",
     "text": [
      "C:\\Users\\USER\\Anaconda3\\lib\\site-packages\\sklearn\\utils\\validation.py:761: DataConversionWarning: A column-vector y was passed when a 1d array was expected. Please change the shape of y to (n_samples, ), for example using ravel().\n",
      "  y = column_or_1d(y, warn=True)\n",
      "C:\\Users\\USER\\Anaconda3\\lib\\site-packages\\sklearn\\utils\\validation.py:761: DataConversionWarning: A column-vector y was passed when a 1d array was expected. Please change the shape of y to (n_samples, ), for example using ravel().\n",
      "  y = column_or_1d(y, warn=True)\n",
      "C:\\Users\\USER\\Anaconda3\\lib\\site-packages\\sklearn\\utils\\validation.py:761: DataConversionWarning: A column-vector y was passed when a 1d array was expected. Please change the shape of y to (n_samples, ), for example using ravel().\n",
      "  y = column_or_1d(y, warn=True)\n",
      "C:\\Users\\USER\\Anaconda3\\lib\\site-packages\\sklearn\\utils\\validation.py:761: DataConversionWarning: A column-vector y was passed when a 1d array was expected. Please change the shape of y to (n_samples, ), for example using ravel().\n",
      "  y = column_or_1d(y, warn=True)\n",
      "C:\\Users\\USER\\Anaconda3\\lib\\site-packages\\sklearn\\utils\\validation.py:761: DataConversionWarning: A column-vector y was passed when a 1d array was expected. Please change the shape of y to (n_samples, ), for example using ravel().\n",
      "  y = column_or_1d(y, warn=True)\n"
     ]
    },
    {
     "name": "stdout",
     "output_type": "stream",
     "text": [
      "0.8619060585993689\n",
      "0.30768719686399576\n",
      "0.9716670580560992\n",
      "    Akurasi  Sensitivitas  Spesifisitas\n",
      "0  0.873333      0.956621      0.454023\n",
      "1  0.865586      0.958857      0.396552\n",
      "2  0.856870      0.965714      0.306358\n",
      "3  0.870229      0.978286      0.323699\n",
      "4  0.843511      0.998857      0.057803\n"
     ]
    },
    {
     "data": {
      "image/png": "[encoded data removed]",
      "text/plain": [
       "<Figure size 432x288 with 1 Axes>"
      ]
     },
     "metadata": {},
     "output_type": "display_data"
    }
   ],
   "source": [
    "for train_index, test_index in kf.split(X,y):\n",
    "    X_train, X_test = X[train_index], X[test_index]\n",
    "    y_train, y_test = y[train_index], y[test_index]\n",
    "    clf.fit(X_train, y_train)\n",
    "    y_pred = clf.predict(X_test)\n",
    "    cm.append((confusion_matrix(y_test, y_pred)).astype(float))\n",
    "for j in range (n):\n",
    "    total.append(sum(sum(cm[j])))\n",
    "    ac.append((cm[j][0,0]+cm[j][1,1])/total[j])\n",
    "    se.append(cm[j][0,0]/(cm[j][0,0]+cm[j][0,1]))\n",
    "    sp.append(cm[j][1,1]/(cm[j][1,0]+cm[j][1,1]))\n",
    "    logit_roc_auc = roc_auc_score(y_test, clf.predict(X_test))\n",
    "    fpr, tpr, thresholds = roc_curve(y_test, clf.predict_proba(X_test)[:,1])\n",
    "akurasi=np.mean(ac)\n",
    "spesifisiti=np.mean(sp)\n",
    "sensitiviti=np.mean(se)\n",
    "afpr=np.mean(fpr)\n",
    "atpr=np.mean(tpr)\n",
    "athresold=np.mean(thresholds)\n",
    "\n",
    "print(akurasi)\n",
    "print(spesifisiti)\n",
    "print(sensitiviti)\n",
    "#performansi masing masing fold->csv\n",
    "df_k3=pd.DataFrame()\n",
    "test=dict()\n",
    "for j in range (3):\n",
    "    test[j]=[]\n",
    "for i in range (n):\n",
    "    test[0].append(ac[i])\n",
    "    test[1].append(se[i])\n",
    "    test[2].append(sp[i])\n",
    "for i in range (3):\n",
    "    df_k3=pd.concat([df_k3,pd.DataFrame(test[i])],axis=1)\n",
    "df_k3.columns=['Akurasi','Sensitivitas','Spesifisitas']\n",
    "print(df_k3)\n",
    "\n",
    "plt.figure()\n",
    "plt.plot(fpr, tpr, label='Logistic Regression (area = %0.2f)' % logit_roc_auc)\n",
    "plt.plot([0, 1], [0, 1],'r--')\n",
    "plt.xlim([0.0, 1.0])\n",
    "plt.ylim([0.0, 1.05])\n",
    "plt.xlabel('False Positive Rate')\n",
    "plt.ylabel('True Positive Rate')\n",
    "plt.title('Receiver operating characteristic')\n",
    "plt.legend(loc=\"lower right\")\n",
    "plt.savefig('Log_ROC')\n",
    "plt.show()"
   ]
  },
  {
   "cell_type": "markdown",
   "metadata": {},
   "source": [
    "# Pengolahan K-Fold"
   ]
  },
  {
   "cell_type": "markdown",
   "metadata": {},
   "source": [
    "# 1. Random Forest"
   ]
  },
  {
   "cell_type": "code",
   "execution_count": 60,
   "metadata": {},
   "outputs": [],
   "source": [
    "n=5\n",
    "kf=StratifiedKFold(n_splits=n,random_state=None)"
   ]
  },
  {
   "cell_type": "code",
   "execution_count": 61,
   "metadata": {},
   "outputs": [],
   "source": [
    "clf_rf = RandomForestClassifier()\n",
    "cm=[]\n",
    "total=[]\n",
    "ac=[]\n",
    "se=[]\n",
    "sp=[]"
   ]
  },
  {
   "cell_type": "code",
   "execution_count": 62,
   "metadata": {},
   "outputs": [
    {
     "name": "stderr",
     "output_type": "stream",
     "text": [
      "C:\\Users\\USER\\Anaconda3\\lib\\site-packages\\sklearn\\ensemble\\forest.py:246: FutureWarning: The default value of n_estimators will change from 10 in version 0.20 to 100 in 0.22.\n",
      "  \"10 in version 0.20 to 100 in 0.22.\", FutureWarning)\n",
      "C:\\Users\\USER\\Anaconda3\\lib\\site-packages\\ipykernel_launcher.py:4: DataConversionWarning: A column-vector y was passed when a 1d array was expected. Please change the shape of y to (n_samples,), for example using ravel().\n",
      "  after removing the cwd from sys.path.\n",
      "C:\\Users\\USER\\Anaconda3\\lib\\site-packages\\ipykernel_launcher.py:4: DataConversionWarning: A column-vector y was passed when a 1d array was expected. Please change the shape of y to (n_samples,), for example using ravel().\n",
      "  after removing the cwd from sys.path.\n",
      "C:\\Users\\USER\\Anaconda3\\lib\\site-packages\\ipykernel_launcher.py:4: DataConversionWarning: A column-vector y was passed when a 1d array was expected. Please change the shape of y to (n_samples,), for example using ravel().\n",
      "  after removing the cwd from sys.path.\n",
      "C:\\Users\\USER\\Anaconda3\\lib\\site-packages\\ipykernel_launcher.py:4: DataConversionWarning: A column-vector y was passed when a 1d array was expected. Please change the shape of y to (n_samples,), for example using ravel().\n",
      "  after removing the cwd from sys.path.\n",
      "C:\\Users\\USER\\Anaconda3\\lib\\site-packages\\ipykernel_launcher.py:4: DataConversionWarning: A column-vector y was passed when a 1d array was expected. Please change the shape of y to (n_samples,), for example using ravel().\n",
      "  after removing the cwd from sys.path.\n"
     ]
    },
    {
     "name": "stdout",
     "output_type": "stream",
     "text": [
      "0.7938298907858794\n",
      "0.7748721015214936\n",
      "0.7974776255707763\n",
      "    Akurasi  Sensitivitas  Spesifisitas\n",
      "0  0.195238      0.035388      1.000000\n",
      "1  0.940896      0.981714      0.735632\n",
      "2  0.958015      0.989714      0.797688\n",
      "3  0.935115      0.995429      0.630058\n",
      "4  0.939885      0.985143      0.710983\n"
     ]
    }
   ],
   "source": [
    "for train_index, test_index in kf.split(X,y):\n",
    "    X_train, X_test = X[train_index], X[test_index]\n",
    "    y_train, y_test = y[train_index], y[test_index]\n",
    "    clf_rf.fit(X_train, y_train)\n",
    "    y_pred = clf_rf.predict(X_test)\n",
    "    cm.append((confusion_matrix(y_test, y_pred)).astype(float))\n",
    "for j in range (n):\n",
    "    total.append(sum(sum(cm[j])))\n",
    "    ac.append((cm[j][0,0]+cm[j][1,1])/total[j])\n",
    "    se.append(cm[j][0,0]/(cm[j][0,0]+cm[j][0,1]))\n",
    "    sp.append(cm[j][1,1]/(cm[j][1,0]+cm[j][1,1]))\n",
    "\n",
    "akurasi=np.mean(ac)\n",
    "spesifisiti=np.mean(sp)\n",
    "sensitiviti=np.mean(se)\n",
    "\n",
    "print(akurasi)\n",
    "print(spesifisiti)\n",
    "print(sensitiviti)\n",
    "#performansi masing masing fold->csv\n",
    "df_k3=pd.DataFrame()\n",
    "test=dict()\n",
    "for j in range (3):\n",
    "    test[j]=[]\n",
    "for i in range (n):\n",
    "    test[0].append(ac[i])\n",
    "    test[1].append(se[i])\n",
    "    test[2].append(sp[i])\n",
    "for i in range (3):\n",
    "    df_k3=pd.concat([df_k3,pd.DataFrame(test[i])],axis=1)\n",
    "df_k3.columns=['Akurasi','Sensitivitas','Spesifisitas']\n",
    "print(df_k3)"
   ]
  },
  {
   "cell_type": "markdown",
   "metadata": {},
   "source": [
    "# 2. Naive Bayes"
   ]
  },
  {
   "cell_type": "raw",
   "metadata": {},
   "source": [
    "Gaussian"
   ]
  },
  {
   "cell_type": "code",
   "execution_count": 63,
   "metadata": {},
   "outputs": [],
   "source": [
    "n=5\n",
    "kf=StratifiedKFold(n_splits=n,random_state=None)\n",
    "gnb = GaussianNB()"
   ]
  },
  {
   "cell_type": "code",
   "execution_count": 64,
   "metadata": {},
   "outputs": [],
   "source": [
    "cm=[]\n",
    "total=[]\n",
    "ac=[]\n",
    "se=[]\n",
    "sp=[]"
   ]
  },
  {
   "cell_type": "code",
   "execution_count": 65,
   "metadata": {},
   "outputs": [
    {
     "name": "stdout",
     "output_type": "stream",
     "text": [
      "0.8434104270602354\n",
      "0.4300511593914026\n",
      "0.9252774951076322\n",
      "    Akurasi  Sensitivitas  Spesifisitas\n",
      "0  0.849524      0.910959      0.540230\n",
      "1  0.830315      0.902857      0.465517\n",
      "2  0.840649      0.918857      0.445087\n",
      "3  0.862595      0.934857      0.497110\n",
      "4  0.833969      0.958857      0.202312\n"
     ]
    },
    {
     "name": "stderr",
     "output_type": "stream",
     "text": [
      "C:\\Users\\USER\\Anaconda3\\lib\\site-packages\\sklearn\\utils\\validation.py:761: DataConversionWarning: A column-vector y was passed when a 1d array was expected. Please change the shape of y to (n_samples, ), for example using ravel().\n",
      "  y = column_or_1d(y, warn=True)\n",
      "C:\\Users\\USER\\Anaconda3\\lib\\site-packages\\sklearn\\utils\\validation.py:761: DataConversionWarning: A column-vector y was passed when a 1d array was expected. Please change the shape of y to (n_samples, ), for example using ravel().\n",
      "  y = column_or_1d(y, warn=True)\n",
      "C:\\Users\\USER\\Anaconda3\\lib\\site-packages\\sklearn\\utils\\validation.py:761: DataConversionWarning: A column-vector y was passed when a 1d array was expected. Please change the shape of y to (n_samples, ), for example using ravel().\n",
      "  y = column_or_1d(y, warn=True)\n",
      "C:\\Users\\USER\\Anaconda3\\lib\\site-packages\\sklearn\\utils\\validation.py:761: DataConversionWarning: A column-vector y was passed when a 1d array was expected. Please change the shape of y to (n_samples, ), for example using ravel().\n",
      "  y = column_or_1d(y, warn=True)\n",
      "C:\\Users\\USER\\Anaconda3\\lib\\site-packages\\sklearn\\utils\\validation.py:761: DataConversionWarning: A column-vector y was passed when a 1d array was expected. Please change the shape of y to (n_samples, ), for example using ravel().\n",
      "  y = column_or_1d(y, warn=True)\n"
     ]
    }
   ],
   "source": [
    "for train_index, test_index in kf.split(X,y):\n",
    "    X_train, X_test = X[train_index], X[test_index]\n",
    "    y_train, y_test = y[train_index], y[test_index]\n",
    "    gnb.fit(X_train, y_train)\n",
    "    y_pred = gnb.predict(X_test)\n",
    "    cm.append((confusion_matrix(y_test, y_pred)).astype(float))\n",
    "for j in range (n):\n",
    "    total.append(sum(sum(cm[j])))\n",
    "    ac.append((cm[j][0,0]+cm[j][1,1])/total[j])\n",
    "    se.append(cm[j][0,0]/(cm[j][0,0]+cm[j][0,1]))\n",
    "    sp.append(cm[j][1,1]/(cm[j][1,0]+cm[j][1,1]))\n",
    "\n",
    "akurasi=np.mean(ac)\n",
    "spesifisiti=np.mean(sp)\n",
    "sensitiviti=np.mean(se)\n",
    "afpr=np.mean(fpr)\n",
    "atpr=np.mean(tpr)\n",
    "athresold=np.mean(thresholds)\n",
    "\n",
    "print(akurasi)\n",
    "print(spesifisiti)\n",
    "print(sensitiviti)\n",
    "#performansi masing masing fold->csv\n",
    "df_k3=pd.DataFrame()\n",
    "test=dict()\n",
    "for j in range (3):\n",
    "    test[j]=[]\n",
    "for i in range (n):\n",
    "    test[0].append(ac[i])\n",
    "    test[1].append(se[i])\n",
    "    test[2].append(sp[i])\n",
    "for i in range (3):\n",
    "    df_k3=pd.concat([df_k3,pd.DataFrame(test[i])],axis=1)\n",
    "df_k3.columns=['Akurasi','Sensitivitas','Spesifisitas']\n",
    "print(df_k3)"
   ]
  },
  {
   "cell_type": "markdown",
   "metadata": {},
   "source": [
    "# 3. SVM"
   ]
  },
  {
   "cell_type": "code",
   "execution_count": 66,
   "metadata": {},
   "outputs": [],
   "source": [
    "from sklearn.model_selection import StratifiedKFold,GridSearchCV\n",
    "from sklearn.svm import NuSVC\n",
    "from sklearn import svm\n",
    "n=5\n",
    "kf=StratifiedKFold(n_splits=n,random_state=None)"
   ]
  },
  {
   "cell_type": "code",
   "execution_count": 67,
   "metadata": {},
   "outputs": [
    {
     "data": {
      "text/plain": [
       "SVC(C=1.0, cache_size=200, class_weight=None, coef0=0.0,\n",
       "  decision_function_shape='ovr', degree=3, gamma=1, kernel='linear',\n",
       "  max_iter=-1, probability=False, random_state=None, shrinking=True,\n",
       "  tol=0.001, verbose=False)"
      ]
     },
     "execution_count": 67,
     "metadata": {},
     "output_type": "execute_result"
    }
   ],
   "source": [
    "from sklearn.model_selection import train_test_split\n",
    "x_train, x_test, y_train, y_test = train_test_split(X, y, test_size=0.6)\n",
    "X=x_test\n",
    "y=y_test\n",
    "ss=svm.SVC(kernel='linear',gamma=1)\n",
    "ss"
   ]
  },
  {
   "cell_type": "code",
   "execution_count": 68,
   "metadata": {},
   "outputs": [],
   "source": [
    "cm=[]\n",
    "total=[]\n",
    "ac=[]\n",
    "se=[]\n",
    "sp=[]"
   ]
  },
  {
   "cell_type": "code",
   "execution_count": 69,
   "metadata": {},
   "outputs": [
    {
     "name": "stderr",
     "output_type": "stream",
     "text": [
      "C:\\Users\\USER\\Anaconda3\\lib\\site-packages\\sklearn\\utils\\validation.py:761: DataConversionWarning: A column-vector y was passed when a 1d array was expected. Please change the shape of y to (n_samples, ), for example using ravel().\n",
      "  y = column_or_1d(y, warn=True)\n",
      "C:\\Users\\USER\\Anaconda3\\lib\\site-packages\\sklearn\\utils\\validation.py:761: DataConversionWarning: A column-vector y was passed when a 1d array was expected. Please change the shape of y to (n_samples, ), for example using ravel().\n",
      "  y = column_or_1d(y, warn=True)\n",
      "C:\\Users\\USER\\Anaconda3\\lib\\site-packages\\sklearn\\utils\\validation.py:761: DataConversionWarning: A column-vector y was passed when a 1d array was expected. Please change the shape of y to (n_samples, ), for example using ravel().\n",
      "  y = column_or_1d(y, warn=True)\n",
      "C:\\Users\\USER\\Anaconda3\\lib\\site-packages\\sklearn\\utils\\validation.py:761: DataConversionWarning: A column-vector y was passed when a 1d array was expected. Please change the shape of y to (n_samples, ), for example using ravel().\n",
      "  y = column_or_1d(y, warn=True)\n",
      "C:\\Users\\USER\\Anaconda3\\lib\\site-packages\\sklearn\\utils\\validation.py:761: DataConversionWarning: A column-vector y was passed when a 1d array was expected. Please change the shape of y to (n_samples, ), for example using ravel().\n",
      "  y = column_or_1d(y, warn=True)\n"
     ]
    },
    {
     "name": "stdout",
     "output_type": "stream",
     "text": [
      "0.8429703771105045\n",
      "0.1268283917340521\n",
      "0.9873936333250624\n",
      "    Akurasi  Sensitivitas  Spesifisitas\n",
      "0  0.850794      0.998092      0.122642\n",
      "1  0.834921      0.971374      0.160377\n",
      "2  0.850794      0.996183      0.132075\n",
      "3  0.845541      0.990440      0.123810\n",
      "4  0.832803      0.980880      0.095238\n"
     ]
    }
   ],
   "source": [
    "for train_index, test_index in kf.split(X,y):\n",
    "    X_train, X_test=X[train_index],X[test_index]\n",
    "    y_train, y_test=y[train_index],y[test_index]\n",
    "    ss.fit(X_train, y_train)\n",
    "    y_pred=ss.predict(X_test)\n",
    "    cm.append((confusion_matrix(y_test,y_pred)).astype(float))\n",
    "for j in range(n):\n",
    "    total.append(sum(sum(cm[j])))\n",
    "    ac.append((cm[j][0,0]+cm[j][1,1])/total[j])\n",
    "    se.append(cm[j][0,0]/(cm[j][0,0]+cm[j][0,1]))\n",
    "    sp.append(cm[j][1,1]/(cm[j][1,1]+cm[j][1,0]))\n",
    "akurasi=np.mean(ac)\n",
    "spesifisiti=np.mean(sp)\n",
    "sensitiviti=np.mean(se)\n",
    "\n",
    "print(akurasi)\n",
    "print(spesifisiti)\n",
    "print(sensitiviti)\n",
    "#performansi masing masing fold->csv\n",
    "df_k3=pd.DataFrame()\n",
    "test=dict()\n",
    "for j in range (3):\n",
    "    test[j]=[]\n",
    "for i in range (n):\n",
    "    test[0].append(ac[i])\n",
    "    test[1].append(se[i])\n",
    "    test[2].append(sp[i])\n",
    "for i in range (3):\n",
    "    df_k3=pd.concat([df_k3,pd.DataFrame(test[i])],axis=1)\n",
    "df_k3.columns=['Akurasi','Sensitivitas','Spesifisitas']\n",
    "print(df_k3)"
   ]
  },
  {
   "cell_type": "markdown",
   "metadata": {},
   "source": [
    "# 4. KNN"
   ]
  },
  {
   "cell_type": "code",
   "execution_count": 73,
   "metadata": {},
   "outputs": [],
   "source": [
    "from sklearn.neighbors import KNeighborsClassifier\n",
    "cm=[]\n",
    "total=[]\n",
    "ac=[]\n",
    "se=[]\n",
    "sp=[]"
   ]
  },
  {
   "cell_type": "code",
   "execution_count": 74,
   "metadata": {},
   "outputs": [
    {
     "name": "stderr",
     "output_type": "stream",
     "text": [
      "C:\\Users\\USER\\Anaconda3\\lib\\site-packages\\ipykernel_launcher.py:5: DataConversionWarning: A column-vector y was passed when a 1d array was expected. Please change the shape of y to (n_samples, ), for example using ravel().\n",
      "  \"\"\"\n"
     ]
    },
    {
     "name": "stdout",
     "output_type": "stream",
     "text": [
      "0.9167323829744213\n",
      "0.9904536365361318\n",
      "0.5512848158131177\n"
     ]
    },
    {
     "name": "stderr",
     "output_type": "stream",
     "text": [
      "C:\\Users\\USER\\Anaconda3\\lib\\site-packages\\ipykernel_launcher.py:5: DataConversionWarning: A column-vector y was passed when a 1d array was expected. Please change the shape of y to (n_samples, ), for example using ravel().\n",
      "  \"\"\"\n",
      "C:\\Users\\USER\\Anaconda3\\lib\\site-packages\\ipykernel_launcher.py:5: DataConversionWarning: A column-vector y was passed when a 1d array was expected. Please change the shape of y to (n_samples, ), for example using ravel().\n",
      "  \"\"\"\n",
      "C:\\Users\\USER\\Anaconda3\\lib\\site-packages\\ipykernel_launcher.py:5: DataConversionWarning: A column-vector y was passed when a 1d array was expected. Please change the shape of y to (n_samples, ), for example using ravel().\n",
      "  \"\"\"\n",
      "C:\\Users\\USER\\Anaconda3\\lib\\site-packages\\ipykernel_launcher.py:5: DataConversionWarning: A column-vector y was passed when a 1d array was expected. Please change the shape of y to (n_samples, ), for example using ravel().\n",
      "  \"\"\"\n"
     ]
    },
    {
     "data": {
      "text/html": [
       "<div>\n",
       "<style scoped>\n",
       "    .dataframe tbody tr th:only-of-type {\n",
       "        vertical-align: middle;\n",
       "    }\n",
       "\n",
       "    .dataframe tbody tr th {\n",
       "        vertical-align: top;\n",
       "    }\n",
       "\n",
       "    .dataframe thead th {\n",
       "        text-align: right;\n",
       "    }\n",
       "</style>\n",
       "<table border=\"1\" class=\"dataframe\">\n",
       "  <thead>\n",
       "    <tr style=\"text-align: right;\">\n",
       "      <th></th>\n",
       "      <th>Akurasi</th>\n",
       "      <th>Spesifisitas</th>\n",
       "      <th>Sensitifitas</th>\n",
       "    </tr>\n",
       "  </thead>\n",
       "  <tbody>\n",
       "    <tr>\n",
       "      <th>0</th>\n",
       "      <td>0.920635</td>\n",
       "      <td>0.575472</td>\n",
       "      <td>0.990458</td>\n",
       "    </tr>\n",
       "    <tr>\n",
       "      <th>1</th>\n",
       "      <td>0.907937</td>\n",
       "      <td>0.537736</td>\n",
       "      <td>0.982824</td>\n",
       "    </tr>\n",
       "    <tr>\n",
       "      <th>2</th>\n",
       "      <td>0.901587</td>\n",
       "      <td>0.462264</td>\n",
       "      <td>0.990458</td>\n",
       "    </tr>\n",
       "    <tr>\n",
       "      <th>3</th>\n",
       "      <td>0.928344</td>\n",
       "      <td>0.600000</td>\n",
       "      <td>0.994264</td>\n",
       "    </tr>\n",
       "    <tr>\n",
       "      <th>4</th>\n",
       "      <td>0.925159</td>\n",
       "      <td>0.580952</td>\n",
       "      <td>0.994264</td>\n",
       "    </tr>\n",
       "  </tbody>\n",
       "</table>\n",
       "</div>"
      ],
      "text/plain": [
       "    Akurasi  Spesifisitas  Sensitifitas\n",
       "0  0.920635      0.575472      0.990458\n",
       "1  0.907937      0.537736      0.982824\n",
       "2  0.901587      0.462264      0.990458\n",
       "3  0.928344      0.600000      0.994264\n",
       "4  0.925159      0.580952      0.994264"
      ]
     },
     "execution_count": 74,
     "metadata": {},
     "output_type": "execute_result"
    }
   ],
   "source": [
    "for train_index, test_index in kf.split(X,y):\n",
    "    X_train, X_test=X[train_index],X[test_index]\n",
    "    y_train, y_test=y[train_index],y[test_index]\n",
    "    knn3=KNeighborsClassifier(n_neighbors=3,metric='l1')\n",
    "    knn3.fit(X_test,y_test)\n",
    "    knn3.kneighbors(X_test,return_distance=False)\n",
    "    y_pred_knn3=knn3.predict(X_test)\n",
    "    cm.append((confusion_matrix(y_test,y_pred_knn3)).astype(float))\n",
    "for j in range(n):\n",
    "    total.append(sum(sum(cm[j])))\n",
    "    ac.append((cm[j][0,0]+cm[j][1,1])/total[j])\n",
    "    se.append(cm[j][0,0]/(cm[j][0,0]+cm[j][0,1]))\n",
    "    sp.append(cm[j][1,1]/(cm[j][1,1]+cm[j][1,0]))\n",
    "akurasi=np.mean(ac)\n",
    "Sensitifitas=np.mean(se)\n",
    "Spesifisitas=np.mean(sp)\n",
    "print(akurasi)\n",
    "print(Sensitifitas)\n",
    "print(Spesifisitas)\n",
    "#performansi masing-masing fold->csv\n",
    "df_k1=pd.DataFrame()\n",
    "test=dict()\n",
    "for j in range(3):\n",
    "    test[j]=[]\n",
    "for i in range (n):\n",
    "    test[0].append(ac[i])\n",
    "    test[1].append(sp[i])\n",
    "    test[2].append(se[i])\n",
    "for i in range (3):\n",
    "    df_k1=pd.concat([df_k1, pd.DataFrame(test[i])],axis=1)\n",
    "df_k1.columns=['Akurasi','Spesifisitas','Sensitifitas']\n",
    "df_k1"
   ]
  },
  {
   "cell_type": "markdown",
   "metadata": {},
   "source": [
    "# Pengolahan Holdout"
   ]
  },
  {
   "cell_type": "markdown",
   "metadata": {},
   "source": [
    "# 1. Naive Bayes"
   ]
  },
  {
   "cell_type": "code",
   "execution_count": 58,
   "metadata": {},
   "outputs": [],
   "source": [
    "X = df.drop(columns=['BAD'])\n",
    "y = df[['BAD']]\n",
    "y=y.values\n",
    "X=X.values"
   ]
  },
  {
   "cell_type": "code",
   "execution_count": 59,
   "metadata": {},
   "outputs": [],
   "source": [
    "from sklearn.model_selection import train_test_split\n",
    "from sklearn.metrics import roc_auc_score\n",
    "from sklearn import svm\n",
    "from sklearn import datasets\n",
    "from sklearn.metrics import confusion_matrix\n",
    "from sklearn.metrics import accuracy_score\n",
    "import numpy as np"
   ]
  },
  {
   "cell_type": "code",
   "execution_count": 60,
   "metadata": {},
   "outputs": [],
   "source": [
    "#split data train and test\n",
    "X_train, X_test, y_train, y_test = train_test_split(X, y, test_size=0.3)"
   ]
  },
  {
   "cell_type": "code",
   "execution_count": 61,
   "metadata": {},
   "outputs": [
    {
     "name": "stdout",
     "output_type": "stream",
     "text": [
      "Number of mislabeled points out of a total 1573 points:428885\n",
      "[0. 0. 0. ... 0. 0. 0.]\n"
     ]
    },
    {
     "name": "stderr",
     "output_type": "stream",
     "text": [
      "C:\\Users\\USER\\Anaconda3\\lib\\site-packages\\sklearn\\utils\\validation.py:761: DataConversionWarning: A column-vector y was passed when a 1d array was expected. Please change the shape of y to (n_samples, ), for example using ravel().\n",
      "  y = column_or_1d(y, warn=True)\n"
     ]
    }
   ],
   "source": [
    "from sklearn.naive_bayes import BernoulliNB\n",
    "brn = BernoulliNB()\n",
    "y_pred=brn.fit(X_test,y_test).predict(X_test)\n",
    "print(\"Number of mislabeled points out of a total %d points:%d\"%(X_test.shape[0],(y_test !=y_pred).sum()))\n",
    "print(y_pred)"
   ]
  },
  {
   "cell_type": "code",
   "execution_count": 62,
   "metadata": {},
   "outputs": [
    {
     "data": {
      "text/plain": [
       "0.8264462809917356"
      ]
     },
     "execution_count": 62,
     "metadata": {},
     "output_type": "execute_result"
    }
   ],
   "source": [
    "accuracy=accuracy_score(y_test,y_pred)\n",
    "accuracy"
   ]
  },
  {
   "cell_type": "code",
   "execution_count": 63,
   "metadata": {},
   "outputs": [
    {
     "name": "stdout",
     "output_type": "stream",
     "text": [
      "[[1300    1]\n",
      " [ 272    0]]\n"
     ]
    }
   ],
   "source": [
    "a1=confusion_matrix(y_test,y_pred)\n",
    "print(a1)"
   ]
  },
  {
   "cell_type": "code",
   "execution_count": 64,
   "metadata": {},
   "outputs": [
    {
     "data": {
      "text/plain": [
       "0.0"
      ]
     },
     "execution_count": 64,
     "metadata": {},
     "output_type": "execute_result"
    }
   ],
   "source": [
    "spesifisitas=(a1[1,1]/(a1[1,1]+a1[1,0]))\n",
    "spesifisitas"
   ]
  },
  {
   "cell_type": "code",
   "execution_count": 65,
   "metadata": {},
   "outputs": [
    {
     "data": {
      "text/plain": [
       "0.9992313604919293"
      ]
     },
     "execution_count": 65,
     "metadata": {},
     "output_type": "execute_result"
    }
   ],
   "source": [
    "sensitivitas=(a1[0,0]/(a1[0,0]+a1[0,1]))\n",
    "sensitivitas"
   ]
  },
  {
   "cell_type": "markdown",
   "metadata": {},
   "source": [
    "# 2. SVM"
   ]
  },
  {
   "cell_type": "code",
   "execution_count": 68,
   "metadata": {},
   "outputs": [],
   "source": [
    "X = df.drop(columns=['BAD'])\n",
    "y = df[['BAD']]\n",
    "y=y.values\n",
    "X=X.values"
   ]
  },
  {
   "cell_type": "code",
   "execution_count": 71,
   "metadata": {},
   "outputs": [
    {
     "name": "stderr",
     "output_type": "stream",
     "text": [
      "C:\\Users\\USER\\Anaconda3\\lib\\site-packages\\sklearn\\utils\\validation.py:761: DataConversionWarning: A column-vector y was passed when a 1d array was expected. Please change the shape of y to (n_samples, ), for example using ravel().\n",
      "  y = column_or_1d(y, warn=True)\n"
     ]
    }
   ],
   "source": [
    "from sklearn import svm\n",
    "svm=svm.SVC(class_weight=None,C=0.0001, gamma=0.1, kernel='linear', random_state=100)\n",
    "svm.fit(X_test,y_test)a1=confusion_matrix(y_test,y_pred)\n",
    "print(a1)\n",
    "y_pred=svm.predict(X_test)"
   ]
  },
  {
   "cell_type": "code",
   "execution_count": 73,
   "metadata": {},
   "outputs": [
    {
     "name": "stdout",
     "output_type": "stream",
     "text": [
      "[[1301    0]\n",
      " [ 272    0]]\n"
     ]
    }
   ],
   "source": [
    "a1=confusion_matrix(y_test,y_pred)\n",
    "print(a1)"
   ]
  },
  {
   "cell_type": "code",
   "execution_count": 74,
   "metadata": {},
   "outputs": [
    {
     "data": {
      "text/plain": [
       "0.8270820089001907"
      ]
     },
     "execution_count": 74,
     "metadata": {},
     "output_type": "execute_result"
    }
   ],
   "source": [
    "akurasi=accuracy_score(y_test,y_pred)\n",
    "akurasi"
   ]
  },
  {
   "cell_type": "code",
   "execution_count": 75,
   "metadata": {},
   "outputs": [
    {
     "data": {
      "text/plain": [
       "0.0"
      ]
     },
     "execution_count": 75,
     "metadata": {},
     "output_type": "execute_result"
    }
   ],
   "source": [
    "spesifisitas=(a1[1,1]/(a1[1,1]+a1[1,0]))\n",
    "spesifisitas"
   ]
  },
  {
   "cell_type": "code",
   "execution_count": 76,
   "metadata": {},
   "outputs": [
    {
     "data": {
      "text/plain": [
       "1.0"
      ]
     },
     "execution_count": 76,
     "metadata": {},
     "output_type": "execute_result"
    }
   ],
   "source": [
    "sensitivitas=(a1[0,0]/(a1[0,0]+a1[0,1]))\n",
    "sensitivitas"
   ]
  },
  {
   "cell_type": "markdown",
   "metadata": {},
   "source": [
    "# 3. KNN"
   ]
  },
  {
   "cell_type": "code",
   "execution_count": 76,
   "metadata": {},
   "outputs": [],
   "source": [
    "X = df.drop(columns=['BAD'])\n",
    "y = df[['BAD']]\n",
    "y=y.values\n",
    "X=X.values\n",
    "from sklearn.model_selection import train_test_split"
   ]
  },
  {
   "cell_type": "code",
   "execution_count": 79,
   "metadata": {},
   "outputs": [
    {
     "name": "stderr",
     "output_type": "stream",
     "text": [
      "C:\\Users\\USER\\Anaconda3\\lib\\site-packages\\ipykernel_launcher.py:4: DataConversionWarning: A column-vector y was passed when a 1d array was expected. Please change the shape of y to (n_samples, ), for example using ravel().\n",
      "  after removing the cwd from sys.path.\n"
     ]
    },
    {
     "data": {
      "text/plain": [
       "array([[   0, 1223,  418],\n",
       "       [   1,  845,  392],\n",
       "       [   2,  873,  603],\n",
       "       ...,\n",
       "       [1570, 1081,  701],\n",
       "       [1571,  230, 1085],\n",
       "       [1572,  790,  652]], dtype=int64)"
      ]
     },
     "execution_count": 79,
     "metadata": {},
     "output_type": "execute_result"
    }
   ],
   "source": [
    "#split data train and test\n",
    "X_train, X_test, y_train, y_test = train_test_split(X, y, test_size=0.3)\n",
    "knn3 = KNeighborsClassifier(n_neighbors=3,metric='l1')\n",
    "knn3.fit(X_test,y_test)\n",
    "knn3.kneighbors(X_test,return_distance=False)"
   ]
  },
  {
   "cell_type": "code",
   "execution_count": 80,
   "metadata": {},
   "outputs": [
    {
     "data": {
      "text/plain": [
       "array([0., 1., 0., ..., 0., 0., 1.])"
      ]
     },
     "execution_count": 80,
     "metadata": {},
     "output_type": "execute_result"
    }
   ],
   "source": [
    "y_pred_knn3=knn3.predict(X_test)\n",
    "y_pred_knn3"
   ]
  },
  {
   "cell_type": "code",
   "execution_count": 82,
   "metadata": {},
   "outputs": [
    {
     "data": {
      "text/plain": [
       "0.9256198347107438"
      ]
     },
     "execution_count": 82,
     "metadata": {},
     "output_type": "execute_result"
    }
   ],
   "source": [
    "from sklearn.metrics import confusion_matrix, accuracy_score, precision_score, recall_score, auc, roc_curve\n",
    "accuracy_score(y_test,y_pred_knn3)"
   ]
  },
  {
   "cell_type": "code",
   "execution_count": 83,
   "metadata": {},
   "outputs": [
    {
     "name": "stdout",
     "output_type": "stream",
     "text": [
      "[[1278   40]\n",
      " [  77  178]]\n"
     ]
    }
   ],
   "source": [
    "a1=confusion_matrix(y_test,y_pred_knn3)\n",
    "print(a1)"
   ]
  },
  {
   "cell_type": "code",
   "execution_count": 84,
   "metadata": {},
   "outputs": [
    {
     "data": {
      "text/plain": [
       "0.6980392156862745"
      ]
     },
     "execution_count": 84,
     "metadata": {},
     "output_type": "execute_result"
    }
   ],
   "source": [
    "spesificity=(a1[1,1]/(a1[1,1]+a1[1,0]))\n",
    "spesificity"
   ]
  },
  {
   "cell_type": "code",
   "execution_count": 85,
   "metadata": {},
   "outputs": [
    {
     "data": {
      "text/plain": [
       "0.9696509863429439"
      ]
     },
     "execution_count": 85,
     "metadata": {},
     "output_type": "execute_result"
    }
   ],
   "source": [
    "sensitivity=(a1[0,0]/(a1[0,0]+a1[0,1]))\n",
    "sensitivity"
   ]
  },
  {
   "cell_type": "code",
   "execution_count": null,
   "metadata": {},
   "outputs": [],
   "source": []
  }
 ],
 "metadata": {
  "kernelspec": {
   "display_name": "Python 3",
   "language": "python",
   "name": "python3"
  },
  "language_info": {
   "codemirror_mode": {
    "name": "ipython",
    "version": 3
   },
   "file_extension": ".py",
   "mimetype": "text/x-python",
   "name": "python",
   "nbconvert_exporter": "python",
   "pygments_lexer": "ipython3",
   "version": "3.7.1"
  }
 },
 "nbformat": 4,
 "nbformat_minor": 2
}
